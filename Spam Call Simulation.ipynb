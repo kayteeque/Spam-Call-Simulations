{
 "cells": [
  {
   "cell_type": "code",
   "execution_count": 55,
   "id": "9fbd925a",
   "metadata": {},
   "outputs": [],
   "source": [
    "import numpy as np\n",
    "from datascience import *\n",
    "import matplotlib\n",
    "%matplotlib inline\n",
    "import matplotlib.pyplot as plt\n",
    "plt.style.use('fivethirtyeight')\n",
    "import warnings\n",
    "warnings.simplefilter('ignore', FutureWarning)"
   ]
  },
  {
   "cell_type": "markdown",
   "id": "06d48529",
   "metadata": {},
   "source": [
    "# Spam Call Probability - Single area code"
   ]
  },
  {
   "cell_type": "markdown",
   "id": "6a605293",
   "metadata": {},
   "source": [
    "Lets begin by looking at a dataset of spam calls. This dataset of spam calls contains a set range of Area Codes. There are 50 area codes in total; inclusively, ranging from 200-999. I want to test the hypothesis that the spam callers are more likely to call phone numbers with the area code 781 when they make their calls. Lets test this hypothesis."
   ]
  },
  {
   "cell_type": "markdown",
   "id": "5c8bf195",
   "metadata": {},
   "source": [
    "Null : Spam callers are equally likely to use area codes 200-999 inclusive when they make their calls. "
   ]
  },
  {
   "cell_type": "markdown",
   "id": "4efd2ffc",
   "metadata": {},
   "source": [
    "Alternative : Spam callers are more likely to use the area code 781 when they make their calls. "
   ]
  },
  {
   "cell_type": "code",
   "execution_count": 56,
   "id": "1acdc4d3",
   "metadata": {},
   "outputs": [
    {
     "data": {
      "text/html": [
       "<table border=\"1\" class=\"dataframe\">\n",
       "    <thead>\n",
       "        <tr>\n",
       "            <th>Area Code</th>\n",
       "        </tr>\n",
       "    </thead>\n",
       "    <tbody>\n",
       "        <tr>\n",
       "            <td>891      </td>\n",
       "        </tr>\n",
       "        <tr>\n",
       "            <td>924      </td>\n",
       "        </tr>\n",
       "        <tr>\n",
       "            <td>516      </td>\n",
       "        </tr>\n",
       "        <tr>\n",
       "            <td>512      </td>\n",
       "        </tr>\n",
       "        <tr>\n",
       "            <td>328      </td>\n",
       "        </tr>\n",
       "        <tr>\n",
       "            <td>613      </td>\n",
       "        </tr>\n",
       "        <tr>\n",
       "            <td>214      </td>\n",
       "        </tr>\n",
       "        <tr>\n",
       "            <td>781      </td>\n",
       "        </tr>\n",
       "        <tr>\n",
       "            <td>591      </td>\n",
       "        </tr>\n",
       "        <tr>\n",
       "            <td>950      </td>\n",
       "        </tr>\n",
       "    </tbody>\n",
       "</table>\n",
       "<p>... (40 rows omitted)</p>"
      ],
      "text/plain": [
       "Area Code\n",
       "891\n",
       "924\n",
       "516\n",
       "512\n",
       "328\n",
       "613\n",
       "214\n",
       "781\n",
       "591\n",
       "950\n",
       "... (40 rows omitted)"
      ]
     },
     "execution_count": 56,
     "metadata": {},
     "output_type": "execute_result"
    }
   ],
   "source": [
    "spam = Table().read_table('spam.csv')\n",
    "spam"
   ]
  },
  {
   "cell_type": "markdown",
   "id": "6df559e2",
   "metadata": {},
   "source": [
    "Our Test Statistic will be using the number of times we see the area code 781 in 50 spam calls. "
   ]
  },
  {
   "cell_type": "markdown",
   "id": "3aa1ab1b",
   "metadata": {},
   "source": [
    "We will write a function that simulates one value of our test statistic under the null hypothesis. "
   ]
  },
  {
   "cell_type": "code",
   "execution_count": 57,
   "id": "83852081",
   "metadata": {},
   "outputs": [
    {
     "data": {
      "text/plain": [
       "0"
      ]
     },
     "execution_count": 57,
     "metadata": {},
     "output_type": "execute_result"
    }
   ],
   "source": [
    "possible_area_codes = np.arange(200,1000)\n",
    "def simulate():\n",
    "    stats = np.random.choice(possible_area_codes,50)\n",
    "    counts = np.count_nonzero(stats==781)\n",
    "    return counts\n",
    "           \n",
    "simulate()"
   ]
  },
  {
   "cell_type": "markdown",
   "id": "7064e497",
   "metadata": {},
   "source": [
    "Lets simulate 20,000 values of the number of times we see the are code 781 in 50 random spam calls. "
   ]
  },
  {
   "cell_type": "code",
   "execution_count": 58,
   "id": "7fc30915",
   "metadata": {},
   "outputs": [
    {
     "data": {
      "text/plain": [
       "array([ 0.,  0.,  0., ...,  0.,  0.,  0.])"
      ]
     },
     "execution_count": 58,
     "metadata": {},
     "output_type": "execute_result"
    }
   ],
   "source": [
    "test_statistics_under_null = make_array()\n",
    "repetitions = 20000\n",
    "for i in np.arange(repetitions):\n",
    "    simulated_values = simulate()\n",
    "    test_statistics_under_null = np.append(test_statistics_under_null, simulated_values)\n",
    "    \n",
    "test_statistics_under_null"
   ]
  },
  {
   "cell_type": "markdown",
   "id": "dc7c39e9",
   "metadata": {},
   "source": [
    "Lets look at an empirical districution of the number of times we see the area code 781 in our simulation. "
   ]
  },
  {
   "cell_type": "code",
   "execution_count": 59,
   "id": "64649f38",
   "metadata": {},
   "outputs": [
    {
     "data": {
      "image/png": "[encoded data removed]",
      "text/plain": [
       "<Figure size 600x400 with 1 Axes>"
      ]
     },
     "metadata": {},
     "output_type": "display_data"
    }
   ],
   "source": [
    "bins = np.arange(0,5,1) # Use these provided bins\n",
    "seven_eight_one = Table().with_column('781 under the null', test_statistics_under_null)\n",
    "seven_eight_one.hist(0,bins=np.arange(0,5,1))"
   ]
  },
  {
   "cell_type": "markdown",
   "id": "ef8bed10",
   "metadata": {},
   "source": [
    "Lets calculate a P-value to determine the significance of our test statistic."
   ]
  },
  {
   "cell_type": "code",
   "execution_count": 60,
   "id": "79f852fb",
   "metadata": {},
   "outputs": [
    {
     "data": {
      "text/plain": [
       "0.0018"
      ]
     },
     "execution_count": 60,
     "metadata": {},
     "output_type": "execute_result"
    }
   ],
   "source": [
    "observed_val = spam.where(0, are.equal_to(781)).num_rows\n",
    "p_value = np.count_nonzero(test_statistics_under_null >= observed_val)/20000\n",
    "p_value "
   ]
  },
  {
   "cell_type": "markdown",
   "id": "11a5dfe6",
   "metadata": {},
   "source": [
    "Lets see if our simulated test statistic achieves significance. We will again use a P-Value Cut Off of 0.05 0r 5%"
   ]
  },
  {
   "cell_type": "markdown",
   "id": "f17928d8",
   "metadata": {},
   "source": [
    "Because small P-Values provides us greater confidence in rejecting the null we can conclude that spam callers are in fact targeting the number 781."
   ]
  },
  {
   "cell_type": "markdown",
   "id": "41a366ab",
   "metadata": {},
   "source": [
    "# Spam Call probability - Multiple"
   ]
  },
  {
   "cell_type": "markdown",
   "id": "0c294d47",
   "metadata": {},
   "source": [
    "Lets look at the probability of spam callers calling the area codes 781, 617, 509, 212, 858, 339 and 626."
   ]
  },
  {
   "cell_type": "markdown",
   "id": "f2dc7795",
   "metadata": {},
   "source": [
    "We will again state our null and alternative hypothesis"
   ]
  },
  {
   "cell_type": "markdown",
   "id": "53fda32f",
   "metadata": {},
   "source": [
    "Null : there is equal probability amongst all available area codes to be called by spammers."
   ]
  },
  {
   "cell_type": "markdown",
   "id": "fa5dadd1",
   "metadata": {},
   "source": [
    "Alternative : There is a higher probability that the spammers call the numbers 781, 617, 509, 212, 858, 339, 626"
   ]
  },
  {
   "cell_type": "markdown",
   "id": "6b99bdb6",
   "metadata": {},
   "source": [
    "For our test statistic we will use the number of times we see any of the area codes 781, 617, 509, 212, 858, 339, 626 in 50 spam calls. "
   ]
  },
  {
   "cell_type": "markdown",
   "id": "e457475f",
   "metadata": {},
   "source": [
    "Lets generate one simulated value of our test statistic."
   ]
  },
  {
   "cell_type": "code",
   "execution_count": 61,
   "id": "4d362a0d",
   "metadata": {},
   "outputs": [
    {
     "data": {
      "text/plain": [
       "0.0"
      ]
     },
     "execution_count": 61,
     "metadata": {},
     "output_type": "execute_result"
    }
   ],
   "source": [
    "model_proportions = make_array(.01,.99)\n",
    "def simulate_specified_area_codes():\n",
    "    proportions = sample_proportions(50 , model_proportions).item(0)\n",
    "    return proportions * 50\n",
    "\n",
    "simulate_specified_area_codes()"
   ]
  },
  {
   "cell_type": "markdown",
   "id": "82913c32",
   "metadata": {},
   "source": [
    "Lets generate 20,000 simulated values of the number of times we see any of the area codes 781, 617, 509, 212, 858, 339, 626 in 50 spam calls."
   ]
  },
  {
   "cell_type": "code",
   "execution_count": 62,
   "id": "abaf90b7",
   "metadata": {},
   "outputs": [
    {
     "data": {
      "text/plain": [
       "array([ 1.,  0.,  0., ...,  1.,  1.,  0.])"
      ]
     },
     "execution_count": 62,
     "metadata": {},
     "output_type": "execute_result"
    }
   ],
   "source": [
    "specified_test_statistics_under_null = make_array()\n",
    "\n",
    "repetitions = 20000\n",
    "for i in np.arange(repetitions):\n",
    "    simulated_test_stat = simulate_specified_area_codes()\n",
    "    specified_test_statistics_under_null = np.append(specified_test_statistics_under_null, simulated_test_stat)\n",
    "    \n",
    "specified_test_statistics_under_null"
   ]
  },
  {
   "cell_type": "markdown",
   "id": "36fe6316",
   "metadata": {},
   "source": [
    "Lets look at the empirical distribution."
   ]
  },
  {
   "cell_type": "code",
   "execution_count": 63,
   "id": "1c2de6ab",
   "metadata": {},
   "outputs": [
    {
     "data": {
      "image/png": "[encoded data removed]",
      "text/plain": [
       "<Figure size 600x400 with 1 Axes>"
      ]
     },
     "metadata": {},
     "output_type": "display_data"
    }
   ],
   "source": [
    "bins_visited = np.arange(0,6,1) # Use these provided bins\n",
    "specified_under_null_table = Table().with_column('specified under null', specified_test_statistics_under_null)\n",
    "specified_under_null_table.hist(0,bins=np.arange(0,6,1))"
   ]
  },
  {
   "cell_type": "markdown",
   "id": "28f18f49",
   "metadata": {},
   "source": [
    "Lets again calculate our P-Value."
   ]
  },
  {
   "cell_type": "code",
   "execution_count": 64,
   "id": "8f95b5cd",
   "metadata": {},
   "outputs": [
    {
     "data": {
      "text/plain": [
       "0.00165"
      ]
     },
     "execution_count": 64,
     "metadata": {},
     "output_type": "execute_result"
    }
   ],
   "source": [
    "specified_area_codes = make_array(781, 617, 509, 510, 212, 858, 339, 626)\n",
    "specified_observed_value = spam.where(0, are.contained_in(specified_area_codes)).num_rows\n",
    "specified_observed_value\n",
    "p_value = np.count_nonzero(specified_test_statistics_under_null >= specified_observed_value) / 20000\n",
    "p_value"
   ]
  },
  {
   "cell_type": "markdown",
   "id": "bce7b8f8",
   "metadata": {},
   "source": [
    "Lets see if our simulated test statistic achieves significance. We will again use a P-Value Cut Off of 0.05 0r 5%"
   ]
  },
  {
   "cell_type": "markdown",
   "id": "4bd00402",
   "metadata": {},
   "source": [
    "Because small P-Values provide us greater confidence in rejecting the null we can conclude that spam callers are in fact targeting the numbers 781, 617, 509, 212, 858, 339, 626. "
   ]
  },
  {
   "cell_type": "markdown",
   "id": "5405c33f",
   "metadata": {},
   "source": [
    "# A/B Testing"
   ]
  },
  {
   "cell_type": "markdown",
   "id": "b1a0f13d",
   "metadata": {},
   "source": [
    "The following table is a sampled table that contains two columns. The first column indicates if a given value is one of our selected numbers, 781, 617, 509, 212, 858, 339, 626. The second column indicates whether or not the spam call was answered. "
   ]
  },
  {
   "cell_type": "code",
   "execution_count": 65,
   "id": "08ad3901",
   "metadata": {},
   "outputs": [
    {
     "data": {
      "text/html": [
       "<table border=\"1\" class=\"dataframe\">\n",
       "    <thead>\n",
       "        <tr>\n",
       "            <th>Specified Area Codes</th> <th>Picked Up</th>\n",
       "        </tr>\n",
       "    </thead>\n",
       "    <tbody>\n",
       "        <tr>\n",
       "            <td>No                  </td> <td>0        </td>\n",
       "        </tr>\n",
       "        <tr>\n",
       "            <td>No                  </td> <td>1        </td>\n",
       "        </tr>\n",
       "        <tr>\n",
       "            <td>No                  </td> <td>1        </td>\n",
       "        </tr>\n",
       "        <tr>\n",
       "            <td>Yes                 </td> <td>0        </td>\n",
       "        </tr>\n",
       "        <tr>\n",
       "            <td>No                  </td> <td>0        </td>\n",
       "        </tr>\n",
       "        <tr>\n",
       "            <td>No                  </td> <td>0        </td>\n",
       "        </tr>\n",
       "        <tr>\n",
       "            <td>Yes                 </td> <td>0        </td>\n",
       "        </tr>\n",
       "        <tr>\n",
       "            <td>No                  </td> <td>1        </td>\n",
       "        </tr>\n",
       "        <tr>\n",
       "            <td>No                  </td> <td>1        </td>\n",
       "        </tr>\n",
       "        <tr>\n",
       "            <td>No                  </td> <td>1        </td>\n",
       "        </tr>\n",
       "    </tbody>\n",
       "</table>\n",
       "<p>... (40 rows omitted)</p>"
      ],
      "text/plain": [
       "Specified Area Codes | Picked Up\n",
       "No                   | 0\n",
       "No                   | 1\n",
       "No                   | 1\n",
       "Yes                  | 0\n",
       "No                   | 0\n",
       "No                   | 0\n",
       "Yes                  | 0\n",
       "No                   | 1\n",
       "No                   | 1\n",
       "No                   | 1\n",
       "... (40 rows omitted)"
      ]
     },
     "execution_count": 65,
     "metadata": {},
     "output_type": "execute_result"
    }
   ],
   "source": [
    "with_labels = Table().read_table(\"spam_picked_up.csv\")\n",
    "Specified_Area_codes = with_labels.relabeled(\"Area Code Visited\", \"Specified Area Codes\")\n",
    "Specified_Area_codes"
   ]
  },
  {
   "cell_type": "markdown",
   "id": "ab6ad8c5",
   "metadata": {},
   "source": [
    "Lets set up an A/B test to determine if we are more likely to pick up a call from one of our specified area codes. (781, 617, 509, 212, 858, 339, 626). Lets again set up our null and alternative hypothesis."
   ]
  },
  {
   "cell_type": "markdown",
   "id": "1ff4aafb",
   "metadata": {},
   "source": [
    "Null : There is no difference in the distribution of calls between our specified area codes (marked as yes in our first column) and and non selected area codes (marked as no in our first column) with any difference due to chance."
   ]
  },
  {
   "cell_type": "markdown",
   "id": "b90e60be",
   "metadata": {},
   "source": [
    "Alternative : There is a difference between the two categories and that we are more likely to pick up the specified area codes."
   ]
  },
  {
   "cell_type": "markdown",
   "id": "c846af8e",
   "metadata": {},
   "source": [
    "# Permutation test"
   ]
  },
  {
   "cell_type": "markdown",
   "id": "3e92735e",
   "metadata": {},
   "source": [
    "Test Statistic : Difference in proportion of calls picked up between the area codes 781, 617, 509, 212, 858, 339, 626 and the all other codes. "
   ]
  },
  {
   "cell_type": "code",
   "execution_count": 66,
   "id": "42c8d8ca",
   "metadata": {
    "scrolled": true
   },
   "outputs": [
    {
     "data": {
      "text/html": [
       "<table border=\"1\" class=\"dataframe\">\n",
       "    <thead>\n",
       "        <tr>\n",
       "            <th>Specified Area Codes</th> <th>Picked Up mean</th>\n",
       "        </tr>\n",
       "    </thead>\n",
       "    <tbody>\n",
       "        <tr>\n",
       "            <td>No                  </td> <td>0.514286      </td>\n",
       "        </tr>\n",
       "        <tr>\n",
       "            <td>Yes                 </td> <td>0.733333      </td>\n",
       "        </tr>\n",
       "    </tbody>\n",
       "</table>"
      ],
      "text/plain": [
       "Specified Area Codes | Picked Up mean\n",
       "No                   | 0.514286\n",
       "Yes                  | 0.733333"
      ]
     },
     "execution_count": 66,
     "metadata": {},
     "output_type": "execute_result"
    }
   ],
   "source": [
    "Specified_Area_codes.group('Specified Area Codes', np.mean)"
   ]
  },
  {
   "cell_type": "markdown",
   "id": "8f8e5a39",
   "metadata": {},
   "source": [
    "Lets make a function to calculate our test statistic."
   ]
  },
  {
   "cell_type": "code",
   "execution_count": 70,
   "id": "2bec4b97",
   "metadata": {},
   "outputs": [
    {
     "data": {
      "text/plain": [
       "0.21904761904761905"
      ]
     },
     "execution_count": 70,
     "metadata": {},
     "output_type": "execute_result"
    }
   ],
   "source": [
    "def difference_in_proportion(sample):\n",
    "    proportions = sample.group('Specified Area Codes',np.mean)\n",
    "    proportion_visited = proportions.where(\"Specified Area Codes\", \"Yes\").column(\"Picked Up mean\").item(0)\n",
    "    proportion_not_visited = proportions.where(\"Specified Area Codes\", \"No\").column(\"Picked Up mean\").item(0)\n",
    "    return proportion_visited - proportion_not_visited\n",
    "\n",
    "observed_diff_proportion = difference_in_proportion(Specified_Area_codes)\n",
    "observed_diff_proportion"
   ]
  },
  {
   "cell_type": "markdown",
   "id": "12243629",
   "metadata": {},
   "source": [
    "To perform a permutation test we shuffle the labels, because our null hypothesis is that the labels don't matter because the distribution of calls between specified and non specified area codes come from the same underlying distribution. The labels in this case is the \"Specified area codes\" column containing \"Yes\" and \"No\"."
   ]
  },
  {
   "cell_type": "code",
   "execution_count": 73,
   "id": "e3de5cd8",
   "metadata": {},
   "outputs": [
    {
     "data": {
      "text/plain": [
       "0.02857142857142858"
      ]
     },
     "execution_count": 73,
     "metadata": {},
     "output_type": "execute_result"
    }
   ],
   "source": [
    "def simulate_one_stat():\n",
    "    shuffled = Specified_Area_codes.sample(with_replacement=False)\n",
    "    original_with_shuffled_labels = with_labels.with_columns('Specified Area Codes',shuffled.column('Specified Area Codes'))\n",
    "    return difference_in_proportion(original_with_shuffled_labels)\n",
    "\n",
    "one_simulated_test_stat = simulate_one_stat() \n",
    "one_simulated_test_stat"
   ]
  },
  {
   "cell_type": "markdown",
   "id": "b07d0027",
   "metadata": {},
   "source": [
    "Lets generate 1000 simulated test statistic values and look at a histogram."
   ]
  },
  {
   "cell_type": "code",
   "execution_count": 75,
   "id": "6b73637a",
   "metadata": {},
   "outputs": [
    {
     "data": {
      "image/png": "[encoded data removed]",
      "text/plain": [
       "<Figure size 600x400 with 1 Axes>"
      ]
     },
     "metadata": {},
     "output_type": "display_data"
    }
   ],
   "source": [
    "trials = 1000\n",
    "test_stats = make_array()\n",
    "for i in np.arange(trials):\n",
    "    sims = simulate_one_stat()\n",
    "    test_stats = np.append(test_stats, sims)\n",
    "\n",
    "Table().with_column(\"Simulated Proportion Difference\", test_stats).hist(\"Simulated Proportion Difference\");\n",
    "plt.plot(observed_diff_proportion, 0, 'ro', markersize=15);"
   ]
  },
  {
   "cell_type": "markdown",
   "id": "9883fa67",
   "metadata": {},
   "source": [
    "Lets now look at our empirical P-Value."
   ]
  },
  {
   "cell_type": "code",
   "execution_count": 76,
   "id": "a1de9966",
   "metadata": {},
   "outputs": [
    {
     "data": {
      "text/plain": [
       "0.144"
      ]
     },
     "execution_count": 76,
     "metadata": {},
     "output_type": "execute_result"
    }
   ],
   "source": [
    "p_value_ab = np.count_nonzero(test_stats >= observed_diff_proportion) / 1000\n",
    "p_value_ab"
   ]
  },
  {
   "cell_type": "markdown",
   "id": "bff6132f",
   "metadata": {},
   "source": [
    "With a 0.05 or 5% P-Value Cut off we can reject the alternative in favor of the null that there is no difference in the distribution of spam calls and that what little there is is due to chance."
   ]
  },
  {
   "cell_type": "code",
   "execution_count": null,
   "id": "1e3cc7e8",
   "metadata": {},
   "outputs": [],
   "source": []
  }
 ],
 "metadata": {
  "kernelspec": {
   "display_name": "Python 3 (ipykernel)",
   "language": "python",
   "name": "python3"
  },
  "language_info": {
   "codemirror_mode": {
    "name": "ipython",
    "version": 3
   },
   "file_extension": ".py",
   "mimetype": "text/x-python",
   "name": "python",
   "nbconvert_exporter": "python",
   "pygments_lexer": "ipython3",
   "version": "3.10.11"
  }
 },
 "nbformat": 4,
 "nbformat_minor": 5
}
